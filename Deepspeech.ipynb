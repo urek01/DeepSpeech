{
 "cells": [
  {
   "cell_type": "code",
   "execution_count": 3,
   "id": "0ccdc940",
   "metadata": {},
   "outputs": [
    {
     "name": "stdout",
     "output_type": "stream",
     "text": [
      "and now more at one\n"
     ]
    }
   ],
   "source": [
    "#neede modules deepspeech, wave, numpy\n",
    "import deepspeech\n",
    "import wave\n",
    "import numpy as np\n",
    "from pydub import AudioSegment as am\n",
    "#alpha, beta and beam width values\n",
    "lm_alpha = 0.75\n",
    "lm_beta = 1.85\n",
    "beam_width = 500\n",
    "#audio file path\n",
    "filename = 'Abhinav_speech.wav'\n",
    "sound = am.from_file(filename,format='wav',frame_rate=22050)\n",
    "sound = sound.set_frame_rate(16000)\n",
    "sound.export(filename, format ='wav')\n",
    "#model path\n",
    "modelPath = 'deepspeech-0.9.3-models.pbmm'\n",
    "scorerPath = 'deepspeech-0.9.3-models.scorer'\n",
    "model = deepspeech.Model(modelPath)\n",
    "model.enableExternalScorer(scorerPath)\n",
    "model.setScorerAlphaBeta(lm_alpha,lm_beta)\n",
    "model.setBeamWidth(beam_width)\n",
    "w = wave.open(filename,'r')\n",
    "rate = w.getframerate()\n",
    "frames = w.getnframes()\n",
    "buffer = w.readframes(frames)\n",
    "data16 = np.frombuffer(buffer,dtype=np.int16)\n",
    "text = model.stt(data16)\n",
    "#use it when metadata needed\n",
    "#textWithMetaData = model.sttWithMetadata(data16)\n",
    "print(text)"
   ]
  },
  {
   "cell_type": "code",
   "execution_count": null,
   "id": "3f272f9b",
   "metadata": {},
   "outputs": [],
   "source": []
  }
 ],
 "metadata": {
  "kernelspec": {
   "display_name": "Python 3 (ipykernel)",
   "language": "python",
   "name": "python3"
  },
  "language_info": {
   "codemirror_mode": {
    "name": "ipython",
    "version": 3
   },
   "file_extension": ".py",
   "mimetype": "text/x-python",
   "name": "python",
   "nbconvert_exporter": "python",
   "pygments_lexer": "ipython3",
   "version": "3.8.8"
  }
 },
 "nbformat": 4,
 "nbformat_minor": 5
}
